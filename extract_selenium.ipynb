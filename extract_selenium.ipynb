{
 "cells": [
  {
   "cell_type": "code",
   "execution_count": 57,
   "id": "7d3c08b5-9f30-4bf5-9226-fd5d41d79341",
   "metadata": {},
   "outputs": [],
   "source": [
    "from selenium.webdriver import Chrome\n",
    "from selenium import webdriver   # for webdriver\n",
    "from selenium.webdriver.support.ui import WebDriverWait  # for implicit and explict waits\n",
    "from selenium.webdriver.chrome.options import Options  # for suppressing the browser"
   ]
  },
  {
   "cell_type": "code",
   "execution_count": 58,
   "id": "318f26b3-afc1-4e18-bbde-cead50b84d1c",
   "metadata": {},
   "outputs": [],
   "source": [
    "option = webdriver.ChromeOptions()\n",
    "option. add_argument('headless')\n",
    "driver = Chrome(executable_path = 'chromedriver.exe', options = option)"
   ]
  },
  {
   "cell_type": "code",
   "execution_count": 59,
   "id": "275076f0-de11-4815-aea9-b328629e16e6",
   "metadata": {},
   "outputs": [],
   "source": [
    "driver.get('https://www.in.gov.br/consulta/-/buscar/dou?q=%22deferir+os+registros+e+as+peti%C3%A7%C3%B5es+dos+produtos+saneantes%22&s=todos&exactDate=personalizado&sortType=0&publishFrom=01-05-2021&publishTo=30-06-2021')"
   ]
  },
  {
   "cell_type": "code",
   "execution_count": 60,
   "id": "bd336427-3deb-4d41-83c6-a187f576af80",
   "metadata": {},
   "outputs": [
    {
     "name": "stdout",
     "output_type": "stream",
     "text": [
      "https://www.in.gov.br/web/dou/-/resolucao-re-n-2.495-de-24-de-junho-de-2021-328274955\n",
      "https://www.in.gov.br/web/dou/-/resolucao-re-n-2.404-de-17-de-junho-de-2021-326852629\n",
      "https://www.in.gov.br/web/dou/-/resolucao-re-n-2.314-de-10-de-junho-de-2021-325403737\n",
      "https://www.in.gov.br/web/dou/-/resolucao-re-n-2.186-de-2-de-junho-de-2021-323929762\n",
      "https://www.in.gov.br/web/dou/-/resolucao-re-n-2.115-de-27-de-maio-de-2021-323007247\n",
      "https://www.in.gov.br/web/dou/-/resolucao-re-n-2.037-de-20-de-maio-de-2021-321594066\n",
      "https://www.in.gov.br/web/dou/-/resolucao-re-n-1.951-de-13-de-maio-de-2021-320061970\n",
      "https://www.in.gov.br/web/dou/-/resolucao-re-n-1.842-de-6-de-maio-de-2021-318739847\n",
      "https://www.in.gov.br/web/dou/-/resolucao-re-n-1.754-de-29-de-abril-de-2021-317375884\n"
     ]
    }
   ],
   "source": [
    "anchors = driver.find_elements_by_css_selector('a')\n",
    "for a in anchors:\n",
    "     if 'resolucao-re' in str(a.get_attribute('href')):\n",
    "            print((a.get_attribute('href')))"
   ]
  },
  {
   "cell_type": "code",
   "execution_count": null,
   "id": "ccb354d3-65f1-4604-8331-2b8932eb0e1c",
   "metadata": {},
   "outputs": [],
   "source": []
  }
 ],
 "metadata": {
  "kernelspec": {
   "display_name": "Python 3",
   "language": "python",
   "name": "python3"
  },
  "language_info": {
   "codemirror_mode": {
    "name": "ipython",
    "version": 3
   },
   "file_extension": ".py",
   "mimetype": "text/x-python",
   "name": "python",
   "nbconvert_exporter": "python",
   "pygments_lexer": "ipython3",
   "version": "3.8.7"
  }
 },
 "nbformat": 4,
 "nbformat_minor": 5
}
